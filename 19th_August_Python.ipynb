{
 "cells": [
  {
   "cell_type": "code",
   "execution_count": 1,
   "id": "5f0d7be5-a228-4053-8b75-7b995ddc291b",
   "metadata": {},
   "outputs": [
    {
     "name": "stdout",
     "output_type": "stream",
     "text": [
      "2 1\n"
     ]
    }
   ],
   "source": [
    "x = 1\n",
    "y = 2\n",
    "x, y = 2, 1\n",
    "print(x,y)"
   ]
  },
  {
   "cell_type": "code",
   "execution_count": 2,
   "id": "f9bf3ca5-f940-4f03-ace2-bb10a254ab50",
   "metadata": {},
   "outputs": [
    {
     "name": "stdin",
     "output_type": "stream",
     "text": [
      "Length :  5\n",
      "Breadth :  4\n"
     ]
    },
    {
     "name": "stdout",
     "output_type": "stream",
     "text": [
      "20\n"
     ]
    }
   ],
   "source": [
    "l = int(input(\"Length : \"))\n",
    "b = int(input(\"Breadth : \"))\n",
    "area = l * b\n",
    "print(area)"
   ]
  },
  {
   "cell_type": "code",
   "execution_count": 3,
   "id": "e65aad47-15d4-4765-8c66-de040fe02214",
   "metadata": {},
   "outputs": [
    {
     "name": "stdin",
     "output_type": "stream",
     "text": [
      "Enter temp in cel :  0\n"
     ]
    },
    {
     "name": "stdout",
     "output_type": "stream",
     "text": [
      "32.0\n"
     ]
    }
   ],
   "source": [
    "cel = int(input(\"Enter temp in cel : \"))\n",
    "f = (cel * (9/5)) + 32\n",
    "print(f)"
   ]
  },
  {
   "cell_type": "code",
   "execution_count": 12,
   "id": "91f69df0-7536-4760-958f-769fbe449e53",
   "metadata": {},
   "outputs": [
    {
     "name": "stdin",
     "output_type": "stream",
     "text": [
      "Enter String :  Raghav\n"
     ]
    },
    {
     "name": "stdout",
     "output_type": "stream",
     "text": [
      "6\n"
     ]
    }
   ],
   "source": [
    "strg = input(\"Enter String : \")\n",
    "print(len(strg))"
   ]
  },
  {
   "cell_type": "code",
   "execution_count": 11,
   "id": "d29ea048-aa77-47ab-86be-951fa8d03b4e",
   "metadata": {},
   "outputs": [
    {
     "name": "stdin",
     "output_type": "stream",
     "text": [
      "Enter String :  My name is Raghav Bansal\n"
     ]
    },
    {
     "name": "stdout",
     "output_type": "stream",
     "text": [
      "7\n"
     ]
    }
   ],
   "source": [
    "strg = input(\"Enter String : \")\n",
    "vowels = (\"a\",\"e\",\"i\",\"o\",\"u\")\n",
    "count = 0\n",
    "for char in strg :\n",
    "    if char.lower() in vowels : \n",
    "        count += 1\n",
    "print(count)"
   ]
  },
  {
   "cell_type": "code",
   "execution_count": 8,
   "id": "b121f746-7a2e-48db-a11d-9893798b913e",
   "metadata": {},
   "outputs": [
    {
     "name": "stdin",
     "output_type": "stream",
     "text": [
      "Enter String :  Raghav\n"
     ]
    },
    {
     "name": "stdout",
     "output_type": "stream",
     "text": [
      "vahgaR\n"
     ]
    }
   ],
   "source": [
    "strg = input(\"Enter String : \")\n",
    "print(strg[::-1])"
   ]
  },
  {
   "cell_type": "code",
   "execution_count": 9,
   "id": "d41c2c27-5f57-45e6-80a6-3cf6ce4fd4b8",
   "metadata": {},
   "outputs": [
    {
     "name": "stdin",
     "output_type": "stream",
     "text": [
      "Enter String :  abba\n"
     ]
    },
    {
     "name": "stdout",
     "output_type": "stream",
     "text": [
      "True\n"
     ]
    }
   ],
   "source": [
    "strg = input(\"Enter String : \")\n",
    "print(strg == strg[::-1])"
   ]
  },
  {
   "cell_type": "code",
   "execution_count": 10,
   "id": "1874b872-1fa8-450d-83a9-c6ed07d23cb7",
   "metadata": {},
   "outputs": [
    {
     "name": "stdin",
     "output_type": "stream",
     "text": [
      "Enter String :  My name is Raghav Bansal\n"
     ]
    },
    {
     "name": "stdout",
     "output_type": "stream",
     "text": [
      "MynameisRaghavBansal\n"
     ]
    }
   ],
   "source": [
    "strg = input(\"Enter String : \")\n",
    "modified_strg = \"\"\n",
    "for char in strg : \n",
    "    if char != \" \" :\n",
    "        modified_strg += char\n",
    "print(modified_strg)"
   ]
  }
 ],
 "metadata": {
  "kernelspec": {
   "display_name": "Python 3 (ipykernel)",
   "language": "python",
   "name": "python3"
  },
  "language_info": {
   "codemirror_mode": {
    "name": "ipython",
    "version": 3
   },
   "file_extension": ".py",
   "mimetype": "text/x-python",
   "name": "python",
   "nbconvert_exporter": "python",
   "pygments_lexer": "ipython3",
   "version": "3.10.8"
  }
 },
 "nbformat": 4,
 "nbformat_minor": 5
}
